{
 "cells": [
  {
   "cell_type": "markdown",
   "metadata": {},
   "source": [
    "# BUSQUEDA LINEAL"
   ]
  },
  {
   "cell_type": "markdown",
   "metadata": {},
   "source": [
    "## ¿Que es una busqueda lineal?\n",
    "\n",
    " una busqueda lineal es aquella que revisa elemento a elemento.\n",
    " hasta que da con el resultado correcto. Por lo que cuanto más elementos\n",
    " contiene una lista, más tiempo tardará nuestro proceso en encontrar un resultado."
   ]
  },
  {
   "cell_type": "markdown",
   "metadata": {},
   "source": [
    "\n",
    "### Funcionamiento:\n",
    "\n",
    "1) Empieza  desde el primer elemento de la lista.\n",
    "2) Compara cada elemento con el valor buscado.\n",
    "3) Si encuentra el elemento, devuelve su índice.\n",
    "4) Si recorre toda la lista sin encontrar el elemento, devulve \"-1\" indicando que el elemento no está en la lista."
   ]
  },
  {
   "cell_type": "code",
   "execution_count": 3,
   "metadata": {},
   "outputs": [
    {
     "name": "stdout",
     "output_type": "stream",
     "text": [
      "coincidencia en la posición: 7, en 8 intentos\n"
     ]
    }
   ],
   "source": [
    "def lineal_search(list, key):\n",
    "    # Retorna la posición del valor en la lista en caso de ser encontrado y el numero de intentos.\n",
    "    tries = 0\n",
    "    for i, Value in enumerate(list):\n",
    "        tries += 1\n",
    "        if Value == key:\n",
    "            return tries, i\n",
    "        \n",
    "    return tries, -1\n",
    "\n",
    "\n",
    "list = [ \"a\", \"b\", \"c\", \"d\", \"e\", \"f\", \"g\", \"h\", \"i\", \"j\", \"k\", \"l\"]\n",
    "\n",
    "tries, position  = lineal_search(list, \"h\")\n",
    "\n",
    "if position != -1:\n",
    "    print(\"coincidencia en la posición: {}, en {} intentos\".format(position,tries))\n",
    "else:\n",
    "    print(\"No se encontraron coincidencias.\")"
   ]
  },
  {
   "cell_type": "markdown",
   "metadata": {},
   "source": [
    "# BUSQUEDA BINARIA "
   ]
  },
  {
   "cell_type": "markdown",
   "metadata": {},
   "source": [
    "## ¿Que es una busqueda Binaria?\n",
    "\n",
    " Una busqueda binaria es un algoritmo de busqueda que se encarga de encontrar\n",
    " un valor en un array de datos, siempre que sus datos estén ordenados. Cuanto mayor\n",
    " sea el array o la lista de datos, más eficiente será nuestra busqueda.\n"
   ]
  },
  {
   "cell_type": "markdown",
   "metadata": {},
   "source": [
    "\n",
    "### Funcionamiento:\n",
    "\n",
    "1) Comienza con los limites inferior y superior del intervalo de busqueda.\n",
    "2) Calcula el indice del intervalo.\n",
    "3) Comparaa el elemento del íncide medio con el valor buscado.\n",
    "4) Si el elemento medio es igual al valor buscado, devuelve su índice.\n",
    "5) Si el valor buscado es menor que el elemento del medio, repite el procese en la mitad inferior.\n",
    "6) Si el valor buscado es mayor que el elemento medio, repite el proceso en la mitad superior.\n",
    "7) Si los limites del intervalo se cruzan, el elemento no esta en la lista y devuelve \"-1\"."
   ]
  },
  {
   "cell_type": "code",
   "execution_count": 4,
   "metadata": {},
   "outputs": [
    {
     "name": "stdout",
     "output_type": "stream",
     "text": [
      "Coincidencia en la posición: 7, en 4 intentos.\n"
     ]
    }
   ],
   "source": [
    "def binary_search(list, key):\n",
    "    # Retorna la posición del valor en la lista en caso de ser encontrado y el numero de intentos.\n",
    "    # La lista debe estar ordenada para que funcione la busqueda.\n",
    "\n",
    "    tries = 0\n",
    "    left = 0\n",
    "    right = len(list) -1\n",
    "\n",
    "    while left <= right:\n",
    "        tries +=1\n",
    "        middle = (left + right) // 2\n",
    "\n",
    "        if list [middle] == key:\n",
    "            return tries, middle\n",
    "        if list[middle] > key:\n",
    "            right = middle -1 \n",
    "        if list[middle] < key:\n",
    "            left = middle + 1\n",
    "\n",
    "    return tries, -1\n",
    "\n",
    "list =  [ \"a\", \"b\", \"c\", \"d\", \"e\", \"f\", \"g\", \"h\", \"i\", \"j\", \"k\", \"l\"]\n",
    "\n",
    "tries, position = binary_search(list, \"h\")\n",
    "if position != -1:\n",
    "    print(\"Coincidencia en la posición: {}, en {} intentos.\".format(position,tries))\n",
    "else:\n",
    "    print(\"no se encontraron coincidencias.\")"
   ]
  }
 ],
 "metadata": {
  "kernelspec": {
   "display_name": "Python 3",
   "language": "python",
   "name": "python3"
  },
  "language_info": {
   "codemirror_mode": {
    "name": "ipython",
    "version": 3
   },
   "file_extension": ".py",
   "mimetype": "text/x-python",
   "name": "python",
   "nbconvert_exporter": "python",
   "pygments_lexer": "ipython3",
   "version": "3.12.2"
  }
 },
 "nbformat": 4,
 "nbformat_minor": 2
}
